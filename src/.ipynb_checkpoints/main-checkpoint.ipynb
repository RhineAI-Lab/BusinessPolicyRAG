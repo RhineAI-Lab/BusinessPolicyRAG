{
 "cells": [
  {
   "cell_type": "code",
   "execution_count": 2,
   "id": "initial_id",
   "metadata": {
    "ExecuteTime": {
     "end_time": "2024-07-10T01:07:52.255088800Z",
     "start_time": "2024-07-10T01:07:43.171163900Z"
    },
    "collapsed": true
   },
   "outputs": [],
   "source": [
    "from glm4_rag import ChatGLM, ChatGLMEmbeddings\n",
    "from llama_index.core import SimpleDirectoryReader\n",
    "from llama_index.core.llms import (\n",
    "    CustomLLM,\n",
    "    CompletionResponse,\n",
    "    CompletionResponseGen,\n",
    "    LLMMetadata,\n",
    ")\n",
    "import base64\n",
    "import os\n",
    "from llama_index.core.llms.callbacks import llm_completion_callback\n",
    "from llama_index.core import Settings\n",
    "from llama_index.core import VectorStoreIndex\n",
    "from llama_index.core.schema import NodeWithScore\n",
    "import gradio as gr\n",
    "import time"
   ]
  },
  {
   "cell_type": "code",
   "execution_count": 3,
   "id": "1840419bd88592e5",
   "metadata": {
    "ExecuteTime": {
     "end_time": "2024-07-10T01:08:01.239376400Z",
     "start_time": "2024-07-10T01:08:01.235865600Z"
    }
   },
   "outputs": [],
   "source": [
    "ZHIPU_API_KEY = 'b3589487b559e0400ced55525f26f3c2.WdVen2vc1c9f9dNC'\n",
    "file_dir = '../data'"
   ]
  },
  {
   "cell_type": "code",
   "execution_count": 4,
   "id": "428679ac63c59bf1",
   "metadata": {
    "ExecuteTime": {
     "end_time": "2024-07-10T01:24:13.797705Z",
     "start_time": "2024-07-10T01:08:03.239611900Z"
    }
   },
   "outputs": [
    {
     "name": "stdout",
     "output_type": "stream",
     "text": [
      "Build Up LLM\n",
      "Build Up Embed Model\n",
      "Build Up Directory 0.0\n",
      "Build Up Vectory Index 197.94742035865784\n",
      "Done 970.5489401817322\n",
      "Getting response ....\n",
      "Done 0.0010042190551757812\n"
     ]
    }
   ],
   "source": [
    "# define our LLM\n",
    "print('Build Up LLM')\n",
    "Settings.llm = ChatGLM(model='glm-4', reuse_client=True, api_key=ZHIPU_API_KEY, )\n",
    "\n",
    "# define embed model\n",
    "print('Build Up Embed Model')\n",
    "Settings.embed_model = ChatGLMEmbeddings(model='embedding-2', reuse_client=True, api_key=ZHIPU_API_KEY, )\n",
    "\n",
    "start = time.time()\n",
    "print('Build Up Directory', time.time() - start)\n",
    "documents = SimpleDirectoryReader(file_dir).load_data()\n",
    "print('Build Up Vectory Index', time.time() - start)\n",
    "index = VectorStoreIndex.from_documents(documents)\n",
    "print('Done', time.time() - start)\n",
    "\n",
    "start = time.time()\n",
    "print('Getting response ....')\n",
    "query_engine = index.as_query_engine()\n",
    "query_retriever = index.as_retriever()\n",
    "\n",
    "print('Done', time.time() - start)"
   ]
  },
  {
   "cell_type": "code",
   "execution_count": 17,
   "id": "62891294148b222c",
   "metadata": {
    "ExecuteTime": {
     "end_time": "2024-07-10T01:37:05.963056Z",
     "start_time": "2024-07-10T01:36:55.800785100Z"
    },
    "scrolled": false
   },
   "outputs": [
    {
     "ename": "AttributeError",
     "evalue": "module 'gradio' has no attribute 'Rows'",
     "output_type": "error",
     "traceback": [
      "\u001b[1;31m---------------------------------------------------------------------------\u001b[0m",
      "\u001b[1;31mAttributeError\u001b[0m                            Traceback (most recent call last)",
      "Cell \u001b[1;32mIn[17], line 54\u001b[0m\n\u001b[0;32m     51\u001b[0m         demo\u001b[38;5;241m.\u001b[39mlaunch(server_port\u001b[38;5;241m=\u001b[39m\u001b[38;5;241m7867\u001b[39m)\n\u001b[0;32m     53\u001b[0m \u001b[38;5;28;01mif\u001b[39;00m \u001b[38;5;18m__name__\u001b[39m \u001b[38;5;241m==\u001b[39m \u001b[38;5;124m'\u001b[39m\u001b[38;5;124m__main__\u001b[39m\u001b[38;5;124m'\u001b[39m:\n\u001b[1;32m---> 54\u001b[0m     main()\n",
      "Cell \u001b[1;32mIn[17], line 40\u001b[0m, in \u001b[0;36mmain\u001b[1;34m()\u001b[0m\n\u001b[0;32m     39\u001b[0m \u001b[38;5;28;01mdef\u001b[39;00m \u001b[38;5;21mmain\u001b[39m():\n\u001b[1;32m---> 40\u001b[0m     \u001b[38;5;28;01mwith\u001b[39;00m gr\u001b[38;5;241m.\u001b[39mRows() \u001b[38;5;28;01mas\u001b[39;00m demo:\n\u001b[0;32m     41\u001b[0m         page_label_state \u001b[38;5;241m=\u001b[39m gr\u001b[38;5;241m.\u001b[39mState(\u001b[38;5;241m1\u001b[39m)\n\u001b[0;32m     43\u001b[0m         \u001b[38;5;28;01mwith\u001b[39;00m gr\u001b[38;5;241m.\u001b[39mColumn(scale\u001b[38;5;241m=\u001b[39m\u001b[38;5;241m1\u001b[39m):\n",
      "\u001b[1;31mAttributeError\u001b[0m: module 'gradio' has no attribute 'Rows'"
     ]
    }
   ],
   "source": [
    "  \n",
    "def get_file_detail(result: NodeWithScore):\n",
    "    dic = {\n",
    "      'text': result.text,\n",
    "      'file': result.metadata['file_path'],\n",
    "      'page': result.metadata['page_label']\n",
    "    }\n",
    "    return dic\n",
    "\n",
    "page_label = 1\n",
    "\n",
    "def process_input(history, html_box):\n",
    "    print('a')\n",
    "    question = history[-1][0]\n",
    "    response = query_engine.query(question)\n",
    "    \n",
    "    global page_label\n",
    "    info_list = []\n",
    "    results = query_retriever.retrieve(question)\n",
    "    for result in results:\n",
    "        detail = get_file_detail(result)\n",
    "        print(detail)\n",
    "        info_list.append(f'Page {detail[\"page\"]}\\n{detail[\"text\"]}')\n",
    "        if detail['page']:\n",
    "            page_label = detail['page']\n",
    "    if history[-1][1]:\n",
    "        history.append([None, None])\n",
    "    history[-1][1] = '\\n\\n'.join(info_list)\n",
    "    history.append([None, str(response)])\n",
    "\n",
    "    return history, f'<embed src=\"http://localhost:7880/business.pdf#page={page_label}\" width=\"700\" height=\"900\" type=\"application/pdf\">'\n",
    "\n",
    "def add_message(history, message):\n",
    "    for x in message[\"files\"]:\n",
    "        history.append(((x,), None))\n",
    "    if message[\"text\"] is not None:\n",
    "        history.append((message[\"text\"], None))\n",
    "    return history, gr.MultimodalTextbox(value=None, interactive=False, file_types=None, placeholder=\"Processing...\", show_label=False)\n",
    "\n",
    "def main():\n",
    "    with gr.Row() as demo:\n",
    "        page_label_state = gr.State(1)\n",
    "        \n",
    "        with gr.Column(scale=1):\n",
    "            chatbot = gr.Chatbot()\n",
    "            chat_input = gr.MultimodalTextbox(interactive=True, file_types=[\"image\"], placeholder=\"Enter message or upload file...\", show_label=False)\n",
    "        with gr.Column(scale=1):\n",
    "            html_box = gr.HTML(value=f'<embed src=\"http://localhost:7880/business.pdf#page=1\" width=\"700\" height=\"900\" type=\"application/pdf\">')\n",
    "        chat_msg = chat_input.submit(add_message, [chatbot, chat_input], [chatbot, chat_input])\n",
    "        bot_msg = chat_msg.then(process_input, [chatbot, html_box], [chatbot, html_box])\n",
    "        bot_msg.then(lambda: gr.MultimodalTextbox(interactive=True, file_types=[\"image\"], placeholder=\"Enter message or upload file...\", show_label=False), None, [chat_input])\n",
    "        demo.launch(server_port=7867)\n",
    "\n",
    "if __name__ == '__main__':\n",
    "    main()"
   ]
  },
  {
   "cell_type": "code",
   "execution_count": null,
   "id": "ff0b3550bf0488f2",
   "metadata": {},
   "outputs": [],
   "source": []
  }
 ],
 "metadata": {
  "kernelspec": {
   "display_name": "Python 3 (ipykernel)",
   "language": "python",
   "name": "python3"
  },
  "language_info": {
   "codemirror_mode": {
    "name": "ipython",
    "version": 3
   },
   "file_extension": ".py",
   "mimetype": "text/x-python",
   "name": "python",
   "nbconvert_exporter": "python",
   "pygments_lexer": "ipython3",
   "version": "3.11.4"
  }
 },
 "nbformat": 4,
 "nbformat_minor": 5
}
