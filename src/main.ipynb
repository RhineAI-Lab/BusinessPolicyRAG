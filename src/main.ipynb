{
 "cells": [
  {
   "cell_type": "code",
   "execution_count": 2,
   "id": "initial_id",
   "metadata": {
    "ExecuteTime": {
     "end_time": "2024-07-10T01:07:52.255088800Z",
     "start_time": "2024-07-10T01:07:43.171163900Z"
    },
    "collapsed": true
   },
   "outputs": [],
   "source": [
    "from glm4_rag import ChatGLM, ChatGLMEmbeddings\n",
    "from llama_index.core import SimpleDirectoryReader\n",
    "from llama_index.core.llms import (\n",
    "    CustomLLM,\n",
    "    CompletionResponse,\n",
    "    CompletionResponseGen,\n",
    "    LLMMetadata,\n",
    ")\n",
    "import base64\n",
    "import os\n",
    "from llama_index.core.llms.callbacks import llm_completion_callback\n",
    "from llama_index.core import Settings\n",
    "from llama_index.core import VectorStoreIndex\n",
    "from llama_index.core.schema import NodeWithScore\n",
    "import gradio as gr\n",
    "import time"
   ]
  },
  {
   "cell_type": "code",
   "execution_count": 28,
   "id": "1840419bd88592e5",
   "metadata": {
    "ExecuteTime": {
     "end_time": "2024-07-10T02:41:23.714958600Z",
     "start_time": "2024-07-10T02:41:23.712953400Z"
    }
   },
   "outputs": [],
   "source": [
    "ZHIPU_API_KEY = 'b3589487b559e0400ced55525f26f3c2.WdVen2vc1c9f9dNC'\n",
    "file_dir = '../data'\n",
    "pdf_url = 'http://10.177.47.31:3330/business.pdf'"
   ]
  },
  {
   "cell_type": "code",
   "execution_count": 4,
   "id": "428679ac63c59bf1",
   "metadata": {
    "ExecuteTime": {
     "end_time": "2024-07-10T01:24:13.797705Z",
     "start_time": "2024-07-10T01:08:03.239611900Z"
    }
   },
   "outputs": [
    {
     "name": "stdout",
     "output_type": "stream",
     "text": [
      "Build Up LLM\n",
      "Build Up Embed Model\n",
      "Build Up Directory 0.0\n",
      "Build Up Vectory Index 197.94742035865784\n",
      "Done 970.5489401817322\n",
      "Getting response ....\n",
      "Done 0.0010042190551757812\n"
     ]
    }
   ],
   "source": [
    "# define our LLM\n",
    "print('Build Up LLM')\n",
    "Settings.llm = ChatGLM(model='glm-4', reuse_client=True, api_key=ZHIPU_API_KEY, )\n",
    "\n",
    "# define embed model\n",
    "print('Build Up Embed Model')\n",
    "Settings.embed_model = ChatGLMEmbeddings(model='embedding-2', reuse_client=True, api_key=ZHIPU_API_KEY, )\n",
    "\n",
    "start = time.time()\n",
    "print('Build Up Directory', time.time() - start)\n",
    "documents = SimpleDirectoryReader(file_dir).load_data()\n",
    "print('Build Up Vectory Index', time.time() - start)\n",
    "index = VectorStoreIndex.from_documents(documents)\n",
    "print('Done', time.time() - start)\n",
    "\n",
    "start = time.time()\n",
    "print('Getting response ....')\n",
    "query_engine = index.as_query_engine()\n",
    "query_retriever = index.as_retriever()\n",
    "\n",
    "print('Done', time.time() - start)"
   ]
  },
  {
   "cell_type": "code",
   "execution_count": 33,
   "id": "62891294148b222c",
   "metadata": {
    "scrolled": false,
    "ExecuteTime": {
     "end_time": "2024-07-10T02:48:57.167203600Z",
     "start_time": "2024-07-10T02:48:32.002995900Z"
    }
   },
   "outputs": [
    {
     "name": "stderr",
     "output_type": "stream",
     "text": [
      "ERROR:    [Errno 10048] error while attempting to bind on address ('0.0.0.0', 7860): 通常每个套接字地址(协议/网络地址/端口)只允许使用一次。\n",
      "ERROR:    [Errno 10048] error while attempting to bind on address ('0.0.0.0', 7861): 通常每个套接字地址(协议/网络地址/端口)只允许使用一次。\n",
      "ERROR:    [Errno 10048] error while attempting to bind on address ('0.0.0.0', 7862): 通常每个套接字地址(协议/网络地址/端口)只允许使用一次。\n",
      "ERROR:    [Errno 10048] error while attempting to bind on address ('0.0.0.0', 7863): 通常每个套接字地址(协议/网络地址/端口)只允许使用一次。\n",
      "ERROR:    [Errno 10048] error while attempting to bind on address ('0.0.0.0', 7868): 通常每个套接字地址(协议/网络地址/端口)只允许使用一次。\n"
     ]
    },
    {
     "name": "stdout",
     "output_type": "stream",
     "text": [
      "Running on local URL:  http://0.0.0.0:7874\n",
      "\n",
      "To create a public link, set `share=True` in `launch()`.\n"
     ]
    },
    {
     "data": {
      "text/plain": "<IPython.core.display.HTML object>",
      "text/html": "<div><iframe src=\"http://localhost:7874/\" width=\"100%\" height=\"500\" allow=\"autoplay; camera; microphone; clipboard-read; clipboard-write;\" frameborder=\"0\" allowfullscreen></iframe></div>"
     },
     "metadata": {},
     "output_type": "display_data"
    }
   ],
   "source": [
    "  \n",
    "def get_file_detail(result: NodeWithScore):\n",
    "    dic = {\n",
    "      'text': result.text,\n",
    "      'file': result.metadata['file_path'],\n",
    "      'page': result.metadata['page_label']\n",
    "    }\n",
    "    return dic\n",
    "\n",
    "page_label = 1\n",
    "\n",
    "def process_input(history, html_box):\n",
    "    print('a')\n",
    "    question = history[-1][0]\n",
    "    response = query_engine.query(question)\n",
    "    \n",
    "    global page_label\n",
    "    info_list = []\n",
    "    results = query_retriever.retrieve(question)\n",
    "    for result in results:\n",
    "        detail = get_file_detail(result)\n",
    "        print(detail)\n",
    "        info_list.append(f'Page {detail[\"page\"]}\\n{detail[\"text\"]}')\n",
    "        if detail['page']:\n",
    "            page_label = detail['page']\n",
    "    if history[-1][1]:\n",
    "        history.append([None, None])\n",
    "    history[-1][1] = '\\n\\n'.join(info_list)\n",
    "    history.append([None, str(response)])\n",
    "\n",
    "    return history, f'<embed src=\"{pdf_url}#page={page_label}\" width=\"700\" height=\"900\" type=\"application/pdf\">'\n",
    "\n",
    "def add_message(history, message):\n",
    "    for x in message[\"files\"]:\n",
    "        history.append(((x,), None))\n",
    "    if message[\"text\"] is not None:\n",
    "        history.append((message[\"text\"], None))\n",
    "    return history, gr.MultimodalTextbox(value=None, interactive=False, file_types=None, placeholder=\"Processing...\", show_label=False)\n",
    "\n",
    "def main():\n",
    "    with gr.Blocks(css=open('./main.css', mode='r', encoding='utf-8').read()) as demo:\n",
    "        with gr.Row():\n",
    "            with gr.Column(scale=1):\n",
    "                chatbot = gr.Chatbot(scale=1)\n",
    "                chat_input = gr.MultimodalTextbox(interactive=True, file_types=[\"image\"], placeholder=\"Enter message or upload file...\", show_label=False)\n",
    "            with gr.Column(scale=1):\n",
    "                html_box = gr.HTML(value=f'<embed src=\"{pdf_url}#page=1\" width=\"700\" height=\"900\" type=\"application/pdf\">')\n",
    "            chat_msg = chat_input.submit(add_message, [chatbot, chat_input], [chatbot, chat_input])\n",
    "            bot_msg = chat_msg.then(process_input, [chatbot, html_box], [chatbot, html_box])\n",
    "            bot_msg.then(lambda: gr.MultimodalTextbox(interactive=True, file_types=[\"image\"], placeholder=\"Enter message or upload file...\", show_label=False), None, [chat_input])\n",
    "    demo.launch(server_name='0.0.0.0')\n",
    "\n",
    "if __name__ == '__main__':\n",
    "    main()"
   ]
  },
  {
   "cell_type": "code",
   "execution_count": null,
   "id": "ff0b3550bf0488f2",
   "metadata": {},
   "outputs": [],
   "source": []
  }
 ],
 "metadata": {
  "kernelspec": {
   "display_name": "Python 3 (ipykernel)",
   "language": "python",
   "name": "python3"
  },
  "language_info": {
   "codemirror_mode": {
    "name": "ipython",
    "version": 3
   },
   "file_extension": ".py",
   "mimetype": "text/x-python",
   "name": "python",
   "nbconvert_exporter": "python",
   "pygments_lexer": "ipython3",
   "version": "3.11.4"
  }
 },
 "nbformat": 4,
 "nbformat_minor": 5
}
