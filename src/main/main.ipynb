{
 "cells": [
  {
   "cell_type": "code",
   "execution_count": 8,
   "outputs": [],
   "source": [
    "from glm4_rag import ChatGLM, ChatGLMEmbeddings\n",
    "from llama_index.core import SimpleDirectoryReader\n",
    "import os\n",
    "from llama_index.core import VectorStoreIndex, StorageContext, Settings, load_index_from_storage\n",
    "from llama_index.core.schema import NodeWithScore\n",
    "\n",
    "import gradio as gr\n",
    "import time"
   ],
   "metadata": {
    "collapsed": false
   },
   "id": "initial_id"
  },
  {
   "cell_type": "code",
   "execution_count": 9,
   "outputs": [],
   "source": [
    "ZHIPU_API_KEY = 'b3589487b559e0400ced55525f26f3c2.WdVen2vc1c9f9dNC'  # API_KEY\n",
    "FILE_DIR = '../../data/rag'  # 知识库目录\n",
    "STORAGE_DIR = '../../storage'  # RAG Index缓存\n",
    "PDF_URL = 'http://10.177.47.31:3330/business.pdf'  # 展示PDF地址"
   ],
   "metadata": {
    "collapsed": false
   },
   "id": "1840419bd88592e5"
  },
  {
   "cell_type": "code",
   "execution_count": 10,
   "outputs": [
    {
     "name": "stdout",
     "output_type": "stream",
     "text": [
      "Build Up LLM\n",
      "Build Up Embed Model\n"
     ]
    }
   ],
   "source": [
    "print('Build Up LLM')\n",
    "Settings.llm = ChatGLM(model='glm-4', reuse_client=True, api_key=ZHIPU_API_KEY, )\n",
    "# define embed model\n",
    "print('Build Up Embed Model')\n",
    "Settings.embed_model = ChatGLMEmbeddings(model='embedding-2', reuse_client=True, api_key=ZHIPU_API_KEY)\n",
    "print()"
   ],
   "metadata": {
    "collapsed": false
   },
   "id": "665501b7b2e928dc"
  },
  {
   "cell_type": "code",
   "execution_count": 11,
   "outputs": [
    {
     "name": "stdout",
     "output_type": "stream",
     "text": [
      "Getting response ....\n",
      "Done 0.022955656051635742\n"
     ]
    }
   ],
   "source": [
    "if not os.path.exists(STORAGE_DIR):\n",
    "  start = time.time()\n",
    "  print('Build Up Directory', time.time() - start)\n",
    "  documents = SimpleDirectoryReader(FILE_DIR).load_data()\n",
    "  print('Build Up Vectory Index', time.time() - start)\n",
    "  index = VectorStoreIndex.from_documents(documents)\n",
    "  print('Done', time.time() - start)\n",
    "  print()\n",
    "  index.storage_context.persist(persist_dir=STORAGE_DIR)\n",
    "else:\n",
    "  print('Loading Index From Storage')\n",
    "  # load the existing index\n",
    "  storage_context = StorageContext.from_defaults(persist_dir=STORAGE_DIR)\n",
    "  index = load_index_from_storage(storage_context)\n",
    "  \n",
    "start = time.time()\n",
    "print('Getting response...')\n",
    "query_engine = index.as_query_engine()\n",
    "query_retriever = index.as_retriever()\n",
    "print('Done', time.time() - start)"
   ],
   "metadata": {
    "collapsed": false
   },
   "id": "428679ac63c59bf1"
  },
  {
   "cell_type": "code",
   "execution_count": 12,
   "outputs": [
    {
     "name": "stdout",
     "output_type": "stream",
     "text": [
      "Running on local URL:  http://0.0.0.0:7860\n",
      "\n",
      "To create a public link, set `share=True` in `launch()`.\n"
     ]
    },
    {
     "data": {
      "text/plain": "<IPython.core.display.HTML object>",
      "text/html": "<div><iframe src=\"http://localhost:7860/\" width=\"100%\" height=\"500\" allow=\"autoplay; camera; microphone; clipboard-read; clipboard-write;\" frameborder=\"0\" allowfullscreen></iframe></div>"
     },
     "metadata": {},
     "output_type": "display_data"
    }
   ],
   "source": [
    "page_label = 1\n",
    "\n",
    "def get_file_detail(result: NodeWithScore):\n",
    "  dic = {\n",
    "    'text': result.text,\n",
    "    'file': result.metadata['file_path'],\n",
    "    'page': result.metadata['page_label']\n",
    "  }\n",
    "  return dic\n",
    "\n",
    "\n",
    "def process_input(history, html_box):\n",
    "  question = history[-1][0]\n",
    "  response = query_engine.query(question)\n",
    "  global page_label\n",
    "  info_list = []\n",
    "  results = query_retriever.retrieve(question)\n",
    "  for result in results:\n",
    "    detail = get_file_detail(result)\n",
    "    info_list.append(f'Page {detail[\"page\"]}\\n{detail[\"text\"]}')\n",
    "    if detail['page']:\n",
    "      page_label = detail['page']\n",
    "  if history[-1][1]:\n",
    "    history.append([None, None])\n",
    "  history[-1][1] = '\\n\\n'.join(info_list)\n",
    "  history.append([None, str(response)])\n",
    "  return history, f'<embed src=\"{PDF_URL}#page={page_label}\" width=\"700\" height=\"900\" type=\"application/pdf\">'\n",
    "\n",
    "\n",
    "def add_message(history, message):\n",
    "  for x in message[\"files\"]:\n",
    "    history.append(((x,), None))\n",
    "  if message[\"text\"] is not None:\n",
    "    history.append((message[\"text\"], None))\n",
    "  return history, gr.MultimodalTextbox(\n",
    "    value=None, interactive=False, file_types=None, placeholder=\"Processing...\", show_label=False)\n",
    "\n",
    "\n",
    "def main():\n",
    "  with gr.Blocks(css=open('./main.css', mode='r', encoding='utf-8').read()) as demo:\n",
    "    with gr.Row():\n",
    "      with gr.Column(scale=1):\n",
    "        chatbot = gr.Chatbot(scale=1)\n",
    "        chat_input = gr.MultimodalTextbox(interactive=True, file_types=[\"image\"],\n",
    "                                          placeholder=\"Enter message or upload file...\", show_label=False)\n",
    "      with gr.Column(scale=1):\n",
    "        html_box = gr.HTML(value=f'<embed src=\"{PDF_URL}#page=1\" width=\"700\" height=\"900\" type=\"application/pdf\">')\n",
    "      chat_msg = chat_input.submit(add_message, [chatbot, chat_input], [chatbot, chat_input])\n",
    "      bot_msg = chat_msg.then(process_input, [chatbot, html_box], [chatbot, html_box])\n",
    "      bot_msg.then(lambda: gr.MultimodalTextbox(\n",
    "        interactive=True, file_types=[\"image\"], placeholder=\"Enter message or upload file...\", show_label=False), None, [chat_input])\n",
    "  demo.launch(server_name='0.0.0.0')\n",
    "\n",
    "\n",
    "if __name__ == '__main__':\n",
    "  main()"
   ],
   "metadata": {
    "collapsed": false
   },
   "id": "62891294148b222c"
  },
  {
   "cell_type": "code",
   "execution_count": 14,
   "id": "ff0b3550bf0488f2",
   "metadata": {
    "ExecuteTime": {
     "end_time": "2024-08-23T04:50:43.081364300Z",
     "start_time": "2024-08-23T04:50:34.795291500Z"
    }
   },
   "outputs": [
    {
     "name": "stdout",
     "output_type": "stream",
     "text": [
      "Response:\n",
      "\n",
      "根据提供的上下文信息，上海市今年最重要的政策是《上海市提信心扩需求稳增长促发展行动方案》。这一政策旨在贯彻党的二十精神和中央经济工作会议精神，全面落实市党代会和相关全会部署，抓牢高质量发展的首要任务，通过提振市场预期和信心，推动经济社会发展的良好开局和稳步增长，实现有效的质量提升和合理的数量增长，努力实现全年经济发展的主要预期目标，以新的气象和作为推动高质量发展取得新成效。行动方案中包含了一系列助企纾困行动、促进消费市场创新发展、以及延期还本付息等支持措施。\n",
      "\n",
      "Result:\n",
      "\n",
      "[NodeWithScore(node=TextNode(id_='5c670250-c3d7-420d-bce1-2d22b9f846ba', embedding=None, metadata={'page_label': '369', 'file_name': 'business.pdf', 'file_path': 'C:\\\\Projects\\\\BusinessPolicyRAG\\\\data\\\\rag\\\\business.pdf', 'file_type': 'application/pdf', 'file_size': 52859635, 'creation_date': '2024-04-12', 'last_modified_date': '2024-04-12'}, excluded_embed_metadata_keys=['file_name', 'file_type', 'file_size', 'creation_date', 'last_modified_date', 'last_accessed_date'], excluded_llm_metadata_keys=['file_name', 'file_type', 'file_size', 'creation_date', 'last_modified_date', 'last_accessed_date'], relationships={<NodeRelationship.SOURCE: '1'>: RelatedNodeInfo(node_id='8ff6f743-e864-4478-aa9b-26883caa92af', node_type=<ObjectType.DOCUMENT: '4'>, metadata={'page_label': '369', 'file_name': 'business.pdf', 'file_path': 'C:\\\\Projects\\\\BusinessPolicyRAG\\\\data\\\\rag\\\\business.pdf', 'file_type': 'application/pdf', 'file_size': 52859635, 'creation_date': '2024-04-12', 'last_modified_date': '2024-04-12'}, hash='ea9d3279c28aac4c6570031908f2ad8e58bf58c41e1bc8384913a1c20ae5a1ec'), <NodeRelationship.PREVIOUS: '2'>: RelatedNodeInfo(node_id='24264dfc-646d-412b-aafd-0593425dc868', node_type=<ObjectType.TEXT: '1'>, metadata={'page_label': '369', 'file_name': 'business.pdf', 'file_path': 'C:\\\\Projects\\\\BusinessPolicyRAG\\\\data\\\\rag\\\\business.pdf', 'file_type': 'application/pdf', 'file_size': 52859635, 'creation_date': '2024-04-12', 'last_modified_date': '2024-04-12'}, hash='bdb14c25c1e7e07f3715c8eaeb253d42ff0721f16f55e99680c730368afc3762')}, text='支持消费市场创新发\\n展，对具有市场引领性的创新业态、模式及创意活动和对消费市场增长有突出贡献的企业适\\n当予以支持，每年奖励上限为零售企业100万元/家、餐饮企业50万元/家。大力发展信息\\n消费、金融保险、个性化旅游、文化、体育、医疗健康等高品质服务消费。落实新一轮城市\\n商业空间布局规划，打造东、西两片国际级消费集聚区，建设一批高品质商业综合体和数字\\n商圈商街，大力发展首发经济、夜间经济、直播经济，加快打造一批特色商业地标。鼓励国\\n有企业所属的商业设施和自有品牌带头开展让利促销活动，发挥引流导入作用。（责任单位：\\n市商务委、市国资委、市地方金融监管局、上海银保监局、市文化旅游局、市体育局、市市\\n场监管局、市卫生健康委、市财政局、各区政府）\\n（二）促进汽车、家电等大宗消费。延续实施新能源车置换补贴，2023年6月30日前', mimetype='text/plain', start_char_idx=724, end_char_idx=1087, text_template='{metadata_str}\\n\\n{content}', metadata_template='{key}: {value}', metadata_seperator='\\n'), score=0.5755608756746354), NodeWithScore(node=TextNode(id_='a93e4f9e-ac47-404a-b5de-6772da4c2832', embedding=None, metadata={'page_label': '368', 'file_name': 'business.pdf', 'file_path': 'C:\\\\Projects\\\\BusinessPolicyRAG\\\\data\\\\rag\\\\business.pdf', 'file_type': 'application/pdf', 'file_size': 52859635, 'creation_date': '2024-04-12', 'last_modified_date': '2024-04-12'}, excluded_embed_metadata_keys=['file_name', 'file_type', 'file_size', 'creation_date', 'last_modified_date', 'last_accessed_date'], excluded_llm_metadata_keys=['file_name', 'file_type', 'file_size', 'creation_date', 'last_modified_date', 'last_accessed_date'], relationships={<NodeRelationship.SOURCE: '1'>: RelatedNodeInfo(node_id='3f355025-602c-4763-8738-411c2af50dc8', node_type=<ObjectType.DOCUMENT: '4'>, metadata={'page_label': '368', 'file_name': 'business.pdf', 'file_path': 'C:\\\\Projects\\\\BusinessPolicyRAG\\\\data\\\\rag\\\\business.pdf', 'file_type': 'application/pdf', 'file_size': 52859635, 'creation_date': '2024-04-12', 'last_modified_date': '2024-04-12'}, hash='5fecda1cba6729fbcca87f628674b820224fcf9e1fe7fd9912aaaf8f60ef1477'), <NodeRelationship.NEXT: '3'>: RelatedNodeInfo(node_id='295c4d84-0da6-4d00-815f-363a7473f0e9', node_type=<ObjectType.TEXT: '1'>, metadata={}, hash='e68d1f91377f6cbf10b3ba17368d06794eea2a73eda7d51354c80a5989436e59')}, text='国家及各省市营商环境政策汇编（2023）\\n3682023年1月20日\\n上海市提信心扩需求稳增长促发展行动方案\\n为贯彻落实党的二十大和中央经济工作会议精神，全面落实市第十二次党代会和十二届\\n市委二次全会部署，抓牢高质量发展首要任务，大力提振市场预期和信心，推动经济社会发\\n展开好局起好步，实现质的有效提升和量的合理增长，努力实现全年经济发展主要预期目标，\\n以新气象新作为推动高质量发展取得新成效，制定本行动方案。\\n一、助企纾困行动\\n（一）全面落实各项税费优惠政策。自2023年1月1日至2023年12月31日，全面落\\n实增值税小规模纳税人减免增值税等政策。按照国家有关政策要求，对符合条件的制造业、\\n批发零售业等行业企业，继续按月全额退还增值税增量留抵税额。对购置日期在2023年1\\n月1日至2023年12月31日期间内并已列入《免征车辆购置税的新能源汽车车型目录》的\\n纯电动汽车、插电式混合动力（含增程式）汽车、燃料电池汽车，免征车辆购置税。自2023\\n年1月1日至2024年12月31日，继续按照50%幅度减免增值税小规模纳税人、小型微利\\n企业和个体工商户的资源税、城市维护建设税、房产税、城镇土地使用税、印花税（不含证\\n券交易印花税）、耕地占用税和教育费附加、地方教育附加等“六税两费”。对非居民用户\\n2023年超定额用水，减半收取超定额累进加价水费。全面落实国家新出台的减税降费政策。\\n（责任单位:市税务局、市财政局、市发展改革委、市水务局、市国资委、各区政府）\\n（二）开展延期还本付息和续贷服务。对于因疫情影响暂时遇困的到期小微企业贷款（含\\n个体工商户和小微企业主经营性贷款），鼓励上海辖内银行业金融机构与借款人按照市场化\\n原则共同协商延期还本付息，延期贷款正常计息，免收罚息，还本付息日期原则上最长可延\\n至2023年6月30日。上海辖内银行业金融机构根据小微企业特点，提供差异化贷款延期方\\n式，推广主动授信、随借随还贷款模式和线上续贷产品，支持正常经营的中小微企业融资周\\n转无缝续贷。', mimetype='text/plain', start_char_idx=0, end_char_idx=847, text_template='{metadata_str}\\n\\n{content}', metadata_template='{key}: {value}', metadata_seperator='\\n'), score=0.5608826601784778)]\n"
     ]
    }
   ],
   "source": [
    "# question = '上海市今年最重要的政策是什么'\n",
    "# response = query_engine.query(question)\n",
    "# print('Response:\\n')\n",
    "# print(response)\n",
    "# global page_label\n",
    "# info_list = []\n",
    "# results = query_retriever.retrieve(question)\n",
    "# print('\\nResult:\\n')\n",
    "# print(results)"
   ]
  },
  {
   "cell_type": "code",
   "execution_count": null,
   "outputs": [],
   "source": [],
   "metadata": {
    "collapsed": false
   },
   "id": "178904b04d743b0"
  }
 ],
 "metadata": {
  "kernelspec": {
   "display_name": "Python 3 (ipykernel)",
   "language": "python",
   "name": "python3"
  },
  "language_info": {
   "codemirror_mode": {
    "name": "ipython",
    "version": 3
   },
   "file_extension": ".py",
   "mimetype": "text/x-python",
   "name": "python",
   "nbconvert_exporter": "python",
   "pygments_lexer": "ipython3",
   "version": "3.11.4"
  }
 },
 "nbformat": 4,
 "nbformat_minor": 5
}
